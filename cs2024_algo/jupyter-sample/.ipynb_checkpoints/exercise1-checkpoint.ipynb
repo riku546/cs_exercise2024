{
 "cells": [
  {
   "cell_type": "markdown",
   "id": "07b829ca-2c78-4e84-9ff6-fc54cd085bd0",
   "metadata": {},
   "source": [
    "# 課題１\n",
    "- matplotlibをimportします\n",
    "- matplotlibのバージョンを出力します"
   ]
  },
  {
   "cell_type": "code",
   "execution_count": 13,
   "id": "9e2836ba-eb5d-4ce5-9202-29035cbdd838",
   "metadata": {},
   "outputs": [
    {
     "name": "stdout",
     "output_type": "stream",
     "text": [
      "3.9.2\n"
     ]
    }
   ],
   "source": [
    "import matplotlib\n",
    "print(matplotlib.__version__)"
   ]
  },
  {
   "cell_type": "code",
   "execution_count": null,
   "id": "65c17137-0ce8-4115-b5f0-faf0b6b50a1d",
   "metadata": {},
   "outputs": [],
   "source": []
  }
 ],
 "metadata": {
  "kernelspec": {
   "display_name": "Python 3 (ipykernel)",
   "language": "python",
   "name": "python3"
  },
  "language_info": {
   "codemirror_mode": {
    "name": "ipython",
    "version": 3
   },
   "file_extension": ".py",
   "mimetype": "text/x-python",
   "name": "python",
   "nbconvert_exporter": "python",
   "pygments_lexer": "ipython3",
   "version": "3.12.3"
  }
 },
 "nbformat": 4,
 "nbformat_minor": 5
}
