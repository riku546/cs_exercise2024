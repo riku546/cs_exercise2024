{
 "cells": [
  {
   "cell_type": "code",
   "execution_count": 12,
   "id": "db67071d-3b78-4ace-a27a-c25add03d35e",
   "metadata": {},
   "outputs": [
    {
     "name": "stdin",
     "output_type": "stream",
     "text": [
      "あなたは？　(0:グー、　１：チョキ、　２：パー)  0\n"
     ]
    },
    {
     "name": "stdout",
     "output_type": "stream",
     "text": [
      "負け\n"
     ]
    }
   ],
   "source": [
    "import random\n",
    "def janken():\n",
    "    while True:\n",
    "        n = int(input(\"あなたは？　(0:グー、　１：チョキ、　２：パー) \"))\n",
    "        if(n < 0 or n > 2):\n",
    "            print(\"もう一度入力してください\")\n",
    "        else:\n",
    "            break\n",
    "\n",
    "    \n",
    "    computer = random.randint(0 , 2)\n",
    "    flag = False\n",
    "    if n == computer:\n",
    "        return \"引き分け\"\n",
    "        exit\n",
    "    if n == 0:\n",
    "        if computer == 1:\n",
    "            flag = True\n",
    "    elif n == 1:\n",
    "        if computer == 2:\n",
    "            flag = True\n",
    "    else:\n",
    "        if computer == 0:\n",
    "            flag = True\n",
    "\n",
    "\n",
    "    if(flag):\n",
    "        return \"勝ち\"\n",
    "    else:\n",
    "        return \"負け\"\n",
    "\n",
    "\n",
    "print(janken())\n",
    "    \n",
    "    \n",
    "    "
   ]
  },
  {
   "cell_type": "code",
   "execution_count": null,
   "id": "ac0f9254-c379-4bbe-894a-68380a3672a2",
   "metadata": {},
   "outputs": [],
   "source": []
  },
  {
   "cell_type": "code",
   "execution_count": null,
   "id": "faa10bb8-d7d8-4640-8920-53a8cffae4a7",
   "metadata": {},
   "outputs": [],
   "source": []
  }
 ],
 "metadata": {
  "kernelspec": {
   "display_name": "Python 3 (ipykernel)",
   "language": "python",
   "name": "python3"
  },
  "language_info": {
   "codemirror_mode": {
    "name": "ipython",
    "version": 3
   },
   "file_extension": ".py",
   "mimetype": "text/x-python",
   "name": "python",
   "nbconvert_exporter": "python",
   "pygments_lexer": "ipython3",
   "version": "3.12.3"
  }
 },
 "nbformat": 4,
 "nbformat_minor": 5
}
