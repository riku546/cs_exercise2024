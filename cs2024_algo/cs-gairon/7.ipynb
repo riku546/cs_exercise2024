{
 "cells": [
  {
   "cell_type": "code",
   "execution_count": null,
   "metadata": {},
   "outputs": [
    {
     "name": "stdout",
     "output_type": "stream",
     "text": [
      "b\n",
      "deque(['a', 'c', 'f', 'e', 'a'])\n",
      "d\n",
      "deque(['a', 'a'])\n"
     ]
    }
   ],
   "source": [
    "from matplotlib import pyplot as plt\n",
    "import networkx as nx\n",
    "from collections import deque\n",
    "\n",
    "\n",
    "\n",
    "\n",
    "def dijkstra(G , s , g):\n",
    "  \n",
    "  d = {}\n",
    "  prev = {}\n",
    "  Q = []\n",
    "\n",
    "  for v in G.nodes:\n",
    "    if s == v : d[v] = 0\n",
    "    else: d[v] = float(\"inf\")\n",
    "    Q.append(v)\n",
    "\n",
    "\n",
    "  while len(Q) > 0:\n",
    "    u = min(Q , key= lambda v : d[v])\n",
    "    Q.remove(u)\n",
    "\n",
    "    for v in G.adj[u]:\n",
    "            if d[v] > d[u] + G[u][v]['weight']:\n",
    "                d[v] = d[u] + G[u][v]['weight']\n",
    "                prev[v] = u\n",
    "  \n",
    "  shortest_path = deque()\n",
    "  while g != s:\n",
    "    g = prev[g]\n",
    "    shortest_path.appendleft(g)\n",
    "  \n",
    "  \n",
    "  return shortest_path\n",
    "\n",
    "\n",
    "G = nx.DiGraph()\n",
    "G.add_node(\"a\")\n",
    "G.add_node(\"b\")\n",
    "G.add_node(\"c\")\n",
    "G.add_node(\"d\")\n",
    "G.add_node(\"e\")\n",
    "G.add_node(\"f\")\n",
    "\n",
    "G.add_edge(\"a\" , \"b\"  , weight = 10)\n",
    "G.add_edge(\"a\" , \"d\" , weight = 3)\n",
    "G.add_edge(\"a\" , \"c\" , weight = 2)\n",
    "G.add_edge(\"b\" , \"a\" , weight = 1)\n",
    "G.add_edge(\"c\" , \"f\" , weight = 2)\n",
    "G.add_edge(\"d\" , \"e\" , weight = 5)\n",
    "G.add_edge(\"e\" , \"d\" , weight = 2)\n",
    "G.add_edge(\"e\" , \"b\" , weight = 3)\n",
    "G.add_edge(\"f\" , \"e\" , weight = 1)\n",
    "\n",
    "\n",
    "\n",
    "print(dijkstra(G , \"a\" , \"b\"))\n",
    "print(dijkstra(G , \"a\" , \"d\"))"
   ]
  }
 ],
 "metadata": {
  "kernelspec": {
   "display_name": "venv",
   "language": "python",
   "name": "python3"
  },
  "language_info": {
   "codemirror_mode": {
    "name": "ipython",
    "version": 3
   },
   "file_extension": ".py",
   "mimetype": "text/x-python",
   "name": "python",
   "nbconvert_exporter": "python",
   "pygments_lexer": "ipython3",
   "version": "3.12.3"
  }
 },
 "nbformat": 4,
 "nbformat_minor": 2
}
