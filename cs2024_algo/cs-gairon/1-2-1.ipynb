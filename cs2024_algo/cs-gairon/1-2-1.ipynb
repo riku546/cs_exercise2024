{
 "cells": [
  {
   "cell_type": "code",
   "execution_count": null,
   "metadata": {},
   "outputs": [],
   "source": []
  },
  {
   "cell_type": "code",
   "execution_count": 1,
   "metadata": {},
   "outputs": [
    {
     "name": "stdout",
     "output_type": "stream",
     "text": [
      "0.5849625007211563\n",
      "13.287712379549449\n"
     ]
    }
   ],
   "source": [
    "import math \n",
    "\n",
    "def handle(p):\n",
    "  return -math.log2(p)\n",
    "\n",
    "print(handle(2 / 3))\n",
    "print(handle(1 / 10000))"
   ]
  },
  {
   "cell_type": "code",
   "execution_count": 7,
   "metadata": {},
   "outputs": [
    {
     "name": "stdout",
     "output_type": "stream",
     "text": [
      "0.9722914243520328\n",
      "1.584962500721156\n"
     ]
    }
   ],
   "source": [
    "import math\n",
    "def handle(p, N):\n",
    "  ans = 0\n",
    "  for i in range(N):\n",
    "    ans += p[i] * -math.log2(p[i])\n",
    "  return ans\n",
    "\n",
    "\n",
    "print(handle([6000 / 10000 , 3999 / 10000 , 1/ 10000], 3))\n",
    "print(handle([1 / 3 , 1/ 3 , 1/ 3], 3))\n"
   ]
  },
  {
   "cell_type": "code",
   "execution_count": null,
   "metadata": {},
   "outputs": [],
   "source": []
  }
 ],
 "metadata": {
  "kernelspec": {
   "display_name": "venv",
   "language": "python",
   "name": "python3"
  },
  "language_info": {
   "codemirror_mode": {
    "name": "ipython",
    "version": 3
   },
   "file_extension": ".py",
   "mimetype": "text/x-python",
   "name": "python",
   "nbconvert_exporter": "python",
   "pygments_lexer": "ipython3",
   "version": "3.12.3"
  }
 },
 "nbformat": 4,
 "nbformat_minor": 2
}
