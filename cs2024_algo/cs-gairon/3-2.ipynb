{
 "cells": [
  {
   "cell_type": "code",
   "execution_count": 23,
   "metadata": {},
   "outputs": [
    {
     "name": "stdout",
     "output_type": "stream",
     "text": [
      "[2, 1, 3, 4]\n"
     ]
    },
    {
     "data": {
      "text/plain": [
       "2"
      ]
     },
     "execution_count": 23,
     "metadata": {},
     "output_type": "execute_result"
    }
   ],
   "source": [
    "def partation(lst):\n",
    "  pivot = lst[- 1]\n",
    "  temp = -1\n",
    "  for i in range(len(lst) - 1):\n",
    "    if pivot >= lst[i]:\n",
    "      temp += 1\n",
    "      lst[i] , lst[temp] = lst[temp] , lst[i]\n",
    "    \n",
    "  temp += 1\n",
    "  lst[temp] , lst[len(lst) - 1] = lst[len(lst) - 1] , lst[temp]\n",
    "  print(lst)\n",
    "\n",
    "  return temp\n",
    "\n",
    "\n",
    "\n",
    "def quick_sort(lst , left , right):\n",
    "  \n",
    "  \n",
    "  if left < right:\n",
    "    index = partation(lst)\n",
    "    quick_sort(lst ,left ,index - 1 )\n",
    "    quick_sort(lst , index + 1, right)\n",
    "\n",
    "  return lst\n",
    "\n",
    "nums = [2 , 1 , 4 , 3]\n",
    "partation(nums)\n",
    "# print(quick_sort(nums , 0 , len(nums) - 1))"
   ]
  },
  {
   "cell_type": "code",
   "execution_count": 19,
   "metadata": {},
   "outputs": [
    {
     "name": "stdout",
     "output_type": "stream",
     "text": [
      "[2, 1, 4, 3]\n"
     ]
    }
   ],
   "source": [
    "def partition(lst):\n",
    "    pivot = lst[-1]\n",
    "    i = -1\n",
    "    for j in range(len(lst) - 1):\n",
    "        if lst[j] <= pivot:\n",
    "            i += 1\n",
    "            lst[i], lst[j] = lst[j], lst[i]\n",
    "    lst[i + 1], lst[-1] = lst[-1], lst[i + 1]\n",
    "    return i + 1\n",
    "\n",
    "def quick_sort(lst, left, right):\n",
    "    if left < right:\n",
    "        partition_index = partition(lst[left:right+1]) + left\n",
    "        quick_sort(lst, left, partition_index - 1)\n",
    "        quick_sort(lst, partition_index + 1, right)\n",
    "    return lst\n",
    "\n",
    "nums = [2, 1, 4, 3]\n",
    "print(quick_sort(nums, 0, len(nums) - 1))"
   ]
  }
 ],
 "metadata": {
  "kernelspec": {
   "display_name": "venv",
   "language": "python",
   "name": "python3"
  },
  "language_info": {
   "codemirror_mode": {
    "name": "ipython",
    "version": 3
   },
   "file_extension": ".py",
   "mimetype": "text/x-python",
   "name": "python",
   "nbconvert_exporter": "python",
   "pygments_lexer": "ipython3",
   "version": "3.12.3"
  }
 },
 "nbformat": 4,
 "nbformat_minor": 2
}
