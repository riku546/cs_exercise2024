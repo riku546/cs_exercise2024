{
 "cells": [
  {
   "cell_type": "code",
   "execution_count": 2,
   "metadata": {},
   "outputs": [
    {
     "name": "stdout",
     "output_type": "stream",
     "text": [
      "[33, 34, 35, 36, 37, 38, 76, 77]\n"
     ]
    }
   ],
   "source": [
    "import networkx as nx\n",
    "\n",
    "G1 = nx.DiGraph()\n",
    "\n",
    "for i in range(1 , 101):\n",
    "  G1.add_node(i)\n",
    "\n",
    "G1.add_edge(1,2 , weight = 1)\n",
    "\n",
    "for i in range(2 , 100):\n",
    "  G1.add_edge(i , i+1 , weight = 1)\n",
    "  G1.add_edge(i , i -1,weight = 1 )\n",
    "  if i * 2 <= 100:\n",
    "    G1.add_edge(i , i * 2 , weight = 1)\n",
    "  if i == 3:\n",
    "    G1.add_edge(i , i /3 , weight = 1)\n",
    "\n",
    "G1.add_edge(100 , 99 , weight=1)\n",
    "\n",
    "print(list(nx.shortest_path(G1 , 33 ,77 , \"weight\")))\n",
    "\n"
   ]
  }
 ],
 "metadata": {
  "kernelspec": {
   "display_name": "venv",
   "language": "python",
   "name": "python3"
  },
  "language_info": {
   "codemirror_mode": {
    "name": "ipython",
    "version": 3
   },
   "file_extension": ".py",
   "mimetype": "text/x-python",
   "name": "python",
   "nbconvert_exporter": "python",
   "pygments_lexer": "ipython3",
   "version": "3.12.3"
  }
 },
 "nbformat": 4,
 "nbformat_minor": 2
}
