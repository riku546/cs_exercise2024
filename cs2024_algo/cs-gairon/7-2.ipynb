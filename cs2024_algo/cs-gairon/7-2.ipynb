{
 "cells": [
  {
   "cell_type": "code",
   "execution_count": null,
   "metadata": {},
   "outputs": [],
   "source": [
    "def find_min(node):\n",
    "  if node.left == None:\n",
    "    return node.value\n",
    "  \n",
    "  find_min(node.left)\n",
    "\n",
    "\n",
    "def find_max(node):\n",
    "  if node.right == None:\n",
    "    return node.value\n",
    "  \n",
    "  find_max(node.right)\n"
   ]
  },
  {
   "cell_type": "code",
   "execution_count": null,
   "metadata": {
    "vscode": {
     "languageId": "plaintext"
    }
   },
   "outputs": [],
   "source": []
  }
 ],
 "metadata": {
  "language_info": {
   "name": "python"
  }
 },
 "nbformat": 4,
 "nbformat_minor": 2
}
