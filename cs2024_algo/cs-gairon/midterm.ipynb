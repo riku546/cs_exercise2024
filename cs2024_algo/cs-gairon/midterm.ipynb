{
 "cells": [
  {
   "cell_type": "code",
   "execution_count": 2,
   "metadata": {},
   "outputs": [
    {
     "name": "stdout",
     "output_type": "stream",
     "text": [
      "0.125\n",
      "3.0\n"
     ]
    }
   ],
   "source": [
    "import math\n",
    "ans = 0\n",
    "print(1 / 8)\n",
    "for i in range(8):\n",
    "  ans += -1 * (1 / 8 * math.log2(1 / 8))\n",
    "print(ans)"
   ]
  },
  {
   "cell_type": "code",
   "execution_count": 10,
   "metadata": {},
   "outputs": [
    {
     "name": "stdout",
     "output_type": "stream",
     "text": [
      "0.08\n",
      "4.0\n"
     ]
    }
   ],
   "source": [
    "import math as m\n",
    "\n",
    "print((10000 * m.log2(10000)) / (100000 * m.log2(100000)))\n",
    "print(50 * 0.08)"
   ]
  },
  {
   "cell_type": "code",
   "execution_count": 7,
   "metadata": {},
   "outputs": [
    {
     "name": "stdout",
     "output_type": "stream",
     "text": [
      "[1, 2, 3, 8, 9, 11, 12, 14, 15, 18]\n"
     ]
    }
   ],
   "source": [
    "lst = [11 , 12 , 8 , 9 , 15 , 1 , 3 , 18 , 2 , 14]\n",
    "print(sorted(lst))"
   ]
  }
 ],
 "metadata": {
  "kernelspec": {
   "display_name": "venv",
   "language": "python",
   "name": "python3"
  },
  "language_info": {
   "codemirror_mode": {
    "name": "ipython",
    "version": 3
   },
   "file_extension": ".py",
   "mimetype": "text/x-python",
   "name": "python",
   "nbconvert_exporter": "python",
   "pygments_lexer": "ipython3",
   "version": "3.12.3"
  }
 },
 "nbformat": 4,
 "nbformat_minor": 2
}
