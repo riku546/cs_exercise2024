{
 "cells": [
  {
   "cell_type": "code",
   "execution_count": null,
   "metadata": {},
   "outputs": [],
   "source": [
    "\n",
    "\n",
    "def depth(top , x):\n",
    "  \n",
    "  def dfs(node , x , cnt):\n",
    "    cnt+=1\n",
    "    if node is  None:\n",
    "      return \n",
    "    if node == x:\n",
    "      print(cnt)\n",
    "      exit()\n",
    "    \n",
    "    dfs(node.left , x , cnt)\n",
    "    dfs(node.right , x , cnt)\n",
    "  \n",
    "  dfs(top , x , -1)\n",
    "  return -1"
   ]
  },
  {
   "cell_type": "code",
   "execution_count": null,
   "metadata": {},
   "outputs": [],
   "source": []
  }
 ],
 "metadata": {
  "language_info": {
   "name": "python"
  }
 },
 "nbformat": 4,
 "nbformat_minor": 2
}
