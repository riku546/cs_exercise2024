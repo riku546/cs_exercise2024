{
 "cells": [
  {
   "cell_type": "code",
   "execution_count": 6,
   "metadata": {},
   "outputs": [
    {
     "name": "stdout",
     "output_type": "stream",
     "text": [
      "0 5\n",
      "1 8\n",
      "2 5\n",
      "3 8\n",
      "4 9\n",
      "5 5\n",
      "6 4\n",
      "7 3\n"
     ]
    }
   ],
   "source": [
    "def h(x):\n",
    "  return x % 10\n",
    "\n",
    "def convertStoInt(string):\n",
    "  return sum(list(map(lambda c : ord(c) , string)))\n",
    "\n",
    "# lst = [13 , 14 , 21 , 46 , 66 , 67 , 72 , 77 , 94 , 95]\n",
    "lst = [\"Akabane\" , \"Jujo\" , \"Itabashi\" , \"Ikebkuro\" , \"Shinjuku\" , \"Shibuya\" , \"Ebisu\" , \"Osaki\"]\n",
    "lst2 = []\n",
    "for s in lst:\n",
    "  lst2.append(convertStoInt(s))\n",
    "\n",
    "\n",
    "\n",
    "for i , v in enumerate( lst2):\n",
    "  print(i , h(int(v)))\n"
   ]
  },
  {
   "cell_type": "code",
   "execution_count": 9,
   "metadata": {},
   "outputs": [
    {
     "name": "stdout",
     "output_type": "stream",
     "text": [
      "5.37 μs ± 768 ns per loop (mean ± std. dev. of 7 runs, 100,000 loops each)\n",
      "9.79 μs ± 318 ns per loop (mean ± std. dev. of 7 runs, 100,000 loops each)\n",
      "15.2 μs ± 145 ns per loop (mean ± std. dev. of 7 runs, 100,000 loops each)\n",
      "18.3 μs ± 306 ns per loop (mean ± std. dev. of 7 runs, 100,000 loops each)\n",
      "22.9 μs ± 367 ns per loop (mean ± std. dev. of 7 runs, 10,000 loops each)\n",
      "28.7 μs ± 484 ns per loop (mean ± std. dev. of 7 runs, 10,000 loops each)\n",
      "32.4 μs ± 982 ns per loop (mean ± std. dev. of 7 runs, 10,000 loops each)\n",
      "38.3 μs ± 1.25 μs per loop (mean ± std. dev. of 7 runs, 10,000 loops each)\n",
      "42.1 μs ± 1.39 μs per loop (mean ± std. dev. of 7 runs, 10,000 loops each)\n",
      "51.1 μs ± 1.41 μs per loop (mean ± std. dev. of 7 runs, 10,000 loops each)\n"
     ]
    }
   ],
   "source": [
    "import random\n",
    "\n",
    "def h(x):\n",
    "  return x % 10\n",
    "\n",
    "\n",
    "class Node:\n",
    "  def __init__(self , key , value):\n",
    "    self.key = key\n",
    "    self.value = value\n",
    "    self.next = None\n",
    "\n",
    "  \n",
    "def put(table , key , value):\n",
    "  hash_value = h(key)\n",
    "\n",
    "  node = table[hash_value]\n",
    "  while node != None:\n",
    "    if node.key == key:\n",
    "      node.value = value\n",
    "    node = node.next\n",
    "    \n",
    "  first_node = table[hash_value]\n",
    "  new_node = Node(key , value)\n",
    "  new_node.next = first_node\n",
    "  table[hash_value] = new_node\n",
    "  \n",
    "def get(table , key):\n",
    "  hash_value= h(key)\n",
    "  node = table[hash_value]\n",
    "  while node != None:\n",
    "    if node.key == key:\n",
    "      return node.value\n",
    "    node = node.next\n",
    "  return None\n",
    "    \n",
    "def make_dict(n):\n",
    "  result = [None] * 10000\n",
    "  keys = random.sample(range(1000000) , n)\n",
    "  values  = random.choices(\"abcdefghijklmnopqrstuvwxyz\" , k = n)\n",
    "  for key , value in zip(keys , values):\n",
    "      put(result , key , value)\n",
    "  return result\n",
    "\n",
    "for i in range(1 , 11):\n",
    "  target = make_dict(i * 1000)\n",
    "  %timeit get(target , 1000000)"
   ]
  }
 ],
 "metadata": {
  "kernelspec": {
   "display_name": "venv",
   "language": "python",
   "name": "python3"
  },
  "language_info": {
   "codemirror_mode": {
    "name": "ipython",
    "version": 3
   },
   "file_extension": ".py",
   "mimetype": "text/x-python",
   "name": "python",
   "nbconvert_exporter": "python",
   "pygments_lexer": "ipython3",
   "version": "3.12.3"
  }
 },
 "nbformat": 4,
 "nbformat_minor": 2
}
