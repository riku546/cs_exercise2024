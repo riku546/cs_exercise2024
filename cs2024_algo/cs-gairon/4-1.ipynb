{
 "cells": [
  {
   "cell_type": "code",
   "execution_count": 1,
   "metadata": {},
   "outputs": [],
   "source": [
    "def find_center(lst):\n",
    "  center = len(lst) // 2\n",
    "  return lst.index(center)\n",
    "\n"
   ]
  },
  {
   "cell_type": "code",
   "execution_count": 90,
   "metadata": {},
   "outputs": [
    {
     "name": "stdout",
     "output_type": "stream",
     "text": [
      "500000\n",
      "CPU times: total: 31.2 ms\n",
      "Wall time: 85.8 ms\n"
     ]
    }
   ],
   "source": [
    "%%time\n",
    "lst = [i for i in range(0 , 1000001)]\n",
    "print(find_center(lst))"
   ]
  },
  {
   "cell_type": "code",
   "execution_count": 92,
   "metadata": {},
   "outputs": [
    {
     "data": {
      "image/png": "[encoded data removed]",
      "text/plain": [
       "<Figure size 640x480 with 1 Axes>"
      ]
     },
     "metadata": {},
     "output_type": "display_data"
    }
   ],
   "source": [
    "import matplotlib.pyplot as plt\n",
    "\n",
    "x = [i for i in range(100000 , 1000001 , 100000)]\n",
    "y = [0 , 15.6 ,31.2, 46.9 , 46.9 , 62.5,62.5,84.9,92.5,106]\n",
    "plt.xlabel(\"length\")\n",
    "plt.ylabel(\"Time(ms)\")\n",
    "plt.scatter(x,y)\n",
    "plt.show()"
   ]
  },
  {
   "cell_type": "code",
   "execution_count": 93,
   "metadata": {},
   "outputs": [
    {
     "ename": "TypeError",
     "evalue": "Node.print_list() takes 1 positional argument but 2 were given",
     "output_type": "error",
     "traceback": [
      "\u001b[1;31m---------------------------------------------------------------------------\u001b[0m",
      "\u001b[1;31mTypeError\u001b[0m                                 Traceback (most recent call last)",
      "Cell \u001b[1;32mIn[93], line 47\u001b[0m\n\u001b[0;32m     45\u001b[0m node1\u001b[38;5;241m.\u001b[39mnext \u001b[38;5;241m=\u001b[39m node2\n\u001b[0;32m     46\u001b[0m node2\u001b[38;5;241m.\u001b[39mnext \u001b[38;5;241m=\u001b[39m node3\n\u001b[1;32m---> 47\u001b[0m \u001b[43mnode1\u001b[49m\u001b[38;5;241;43m.\u001b[39;49m\u001b[43mprint_list\u001b[49m\u001b[43m(\u001b[49m\u001b[43mnode1\u001b[49m\u001b[43m)\u001b[49m\n",
      "\u001b[1;31mTypeError\u001b[0m: Node.print_list() takes 1 positional argument but 2 were given"
     ]
    }
   ],
   "source": [
    "class Node:\n",
    "  def __init__(self , value):\n",
    "    self.value  = value\n",
    "    self.next = None\n",
    "  \n",
    "  def __str__(self):\n",
    "    return str(self.value)\n",
    "  \n",
    "  def print_list(top):\n",
    "    node = top\n",
    "    while node is not None:\n",
    "      print(node , end=\" \")\n",
    "      node = node.next\n",
    "\n",
    "  def get(top , n):\n",
    "    node = top\n",
    "    for i in range(n):\n",
    "      node = node.next\n",
    "    return node\n",
    "  \n",
    "  def insert(top , value):\n",
    "    new_node = Node(value)\n",
    "    new_node.next = top.next\n",
    "    top.next = new_node\n",
    "    return new_node\n",
    "  \n",
    "  def pop(prev):\n",
    "    prev.next = prev.next.next\n",
    "    prev.next.next = None\n",
    "    return prev.next\n",
    "  \n",
    "  def index(top , value):\n",
    "    node = top\n",
    "    while node is not Node:\n",
    "      if node.value == value:\n",
    "        return node\n",
    "      else:\n",
    "        node = node.next\n",
    "    return None\n",
    "\n",
    "\n",
    "node1 = Node(1)\n",
    "node2 = Node(2)\n",
    "node3 = Node(3)\n",
    "node1.next = node2\n",
    "node2.next = node3\n",
    "node1.print_list(node1)\n"
   ]
  }
 ],
 "metadata": {
  "kernelspec": {
   "display_name": "venv",
   "language": "python",
   "name": "python3"
  },
  "language_info": {
   "codemirror_mode": {
    "name": "ipython",
    "version": 3
   },
   "file_extension": ".py",
   "mimetype": "text/x-python",
   "name": "python",
   "nbconvert_exporter": "python",
   "pygments_lexer": "ipython3",
   "version": "3.12.3"
  }
 },
 "nbformat": 4,
 "nbformat_minor": 2
}
