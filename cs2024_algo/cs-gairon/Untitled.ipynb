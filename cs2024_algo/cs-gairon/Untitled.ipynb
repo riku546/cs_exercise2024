{
 "cells": [
  {
   "cell_type": "markdown",
   "id": "456ab4e2-50f5-4c78-98d5-95f100ccaf8a",
   "metadata": {},
   "source": [
    "# 課題１\n",
    "正の整数からなるリストxsを引数にとり,xsの要素の中で3の倍数の個数を返す関数count3(xs)"
   ]
  },
  {
   "cell_type": "code",
   "execution_count": 12,
   "id": "9d473752-95b8-4b7d-a65f-21874fc11471",
   "metadata": {},
   "outputs": [],
   "source": [
    "def count3(xs):\n",
    "    cnt = 0;\n",
    "    for num in xs:\n",
    "        if(num % 3 == 0):\n",
    "            cnt+=1\n",
    "    print(cnt)\n",
    "        "
   ]
  },
  {
   "cell_type": "code",
   "execution_count": 13,
   "id": "362cf0bf-0025-4dab-9498-726f6aa36cdf",
   "metadata": {},
   "outputs": [
    {
     "name": "stdout",
     "output_type": "stream",
     "text": [
      "3\n"
     ]
    }
   ],
   "source": [
    "count3([123,456,789,101])"
   ]
  },
  {
   "cell_type": "markdown",
   "id": "10a543e6-49f0-4e36-9a7f-50ac0b2a3e5a",
   "metadata": {},
   "source": [
    "# 課題２\n",
    "単語のリストwordsを引数にとり、空白を挟んでつないだ文字列を返す関数sentence(words)を定義せよ。"
   ]
  },
  {
   "cell_type": "code",
   "execution_count": 18,
   "id": "78a5f38e-d06f-4d5c-8a8a-e5a19f0f3222",
   "metadata": {},
   "outputs": [],
   "source": [
    "def sentence(words):\n",
    "    ans = \"'\"\n",
    "    for i, w in enumerate(words):\n",
    "        if(i  + 1 != len(words)):\n",
    "            ans += w +' '\n",
    "        else :\n",
    "            ans += w +\"'\"\n",
    "    print(ans)\n",
    "        "
   ]
  },
  {
   "cell_type": "code",
   "execution_count": 19,
   "id": "2f9c0ba3-69dd-4e48-af00-b7906cd8deff",
   "metadata": {},
   "outputs": [
    {
     "name": "stdout",
     "output_type": "stream",
     "text": [
      "'This is INIAD'\n"
     ]
    }
   ],
   "source": [
    "sentence([\"This\" , \"is\" , \"INIAD\"])"
   ]
  },
  {
   "cell_type": "code",
   "execution_count": null,
   "id": "686cddc0-3ef9-46d8-82ad-cc7cbdb086e8",
   "metadata": {},
   "outputs": [],
   "source": []
  }
 ],
 "metadata": {
  "kernelspec": {
   "display_name": "Python 3 (ipykernel)",
   "language": "python",
   "name": "python3"
  },
  "language_info": {
   "codemirror_mode": {
    "name": "ipython",
    "version": 3
   },
   "file_extension": ".py",
   "mimetype": "text/x-python",
   "name": "python",
   "nbconvert_exporter": "python",
   "pygments_lexer": "ipython3",
   "version": "3.12.3"
  }
 },
 "nbformat": 4,
 "nbformat_minor": 5
}
